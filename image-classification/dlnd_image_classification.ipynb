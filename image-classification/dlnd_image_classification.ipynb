{
 "cells": [
  {
   "cell_type": "markdown",
   "metadata": {
    "collapsed": true
   },
   "source": [
    "# Image Classification\n",
    "In this project, you'll classify images from the [CIFAR-10 dataset](https://www.cs.toronto.edu/~kriz/cifar.html).  The dataset consists of airplanes, dogs, cats, and other objects. You'll preprocess the images, then train a convolutional neural network on all the samples. The images need to be normalized and the labels need to be one-hot encoded.  You'll get to apply what you learned and build a convolutional, max pooling, dropout, and fully connected layers.  At the end, you'll get to see your neural network's predictions on the sample images.\n",
    "## Get the Data\n",
    "Run the following cell to download the [CIFAR-10 dataset for python](https://www.cs.toronto.edu/~kriz/cifar-10-python.tar.gz)."
   ]
  },
  {
   "cell_type": "code",
   "execution_count": 12,
   "metadata": {},
   "outputs": [
    {
     "name": "stdout",
     "output_type": "stream",
     "text": [
      "All files found!\n"
     ]
    }
   ],
   "source": [
    "\"\"\"\n",
    "DON'T MODIFY ANYTHING IN THIS CELL THAT IS BELOW THIS LINE\n",
    "\"\"\"\n",
    "from urllib.request import urlretrieve\n",
    "from os.path import isfile, isdir\n",
    "from tqdm import tqdm\n",
    "import problem_unittests as tests\n",
    "import tarfile\n",
    "\n",
    "cifar10_dataset_folder_path = 'cifar-10-batches-py'\n",
    "\n",
    "# Use Floyd's cifar-10 dataset if present\n",
    "floyd_cifar10_location = '/input/cifar-10/python.tar.gz'\n",
    "if isfile(floyd_cifar10_location):\n",
    "    tar_gz_path = floyd_cifar10_location\n",
    "else:\n",
    "    tar_gz_path = 'cifar-10-python.tar.gz'\n",
    "\n",
    "class DLProgress(tqdm):\n",
    "    last_block = 0\n",
    "\n",
    "    def hook(self, block_num=1, block_size=1, total_size=None):\n",
    "        self.total = total_size\n",
    "        self.update((block_num - self.last_block) * block_size)\n",
    "        self.last_block = block_num\n",
    "\n",
    "if not isfile(tar_gz_path):\n",
    "    with DLProgress(unit='B', unit_scale=True, miniters=1, desc='CIFAR-10 Dataset') as pbar:\n",
    "        urlretrieve(\n",
    "            'https://www.cs.toronto.edu/~kriz/cifar-10-python.tar.gz',\n",
    "            tar_gz_path,\n",
    "            pbar.hook)\n",
    "\n",
    "if not isdir(cifar10_dataset_folder_path):\n",
    "    with tarfile.open(tar_gz_path) as tar:\n",
    "        tar.extractall()\n",
    "        tar.close()\n",
    "\n",
    "\n",
    "tests.test_folder_path(cifar10_dataset_folder_path)"
   ]
  },
  {
   "cell_type": "markdown",
   "metadata": {},
   "source": [
    "## Explore the Data\n",
    "The dataset is broken into batches to prevent your machine from running out of memory.  The CIFAR-10 dataset consists of 5 batches, named `data_batch_1`, `data_batch_2`, etc.. Each batch contains the labels and images that are one of the following:\n",
    "* airplane\n",
    "* automobile\n",
    "* bird\n",
    "* cat\n",
    "* deer\n",
    "* dog\n",
    "* frog\n",
    "* horse\n",
    "* ship\n",
    "* truck\n",
    "\n",
    "Understanding a dataset is part of making predictions on the data.  Play around with the code cell below by changing the `batch_id` and `sample_id`. The `batch_id` is the id for a batch (1-5). The `sample_id` is the id for a image and label pair in the batch.\n",
    "\n",
    "Ask yourself \"What are all possible labels?\", \"What is the range of values for the image data?\", \"Are the labels in order or random?\".  Answers to questions like these will help you preprocess the data and end up with better predictions."
   ]
  },
  {
   "cell_type": "code",
   "execution_count": 13,
   "metadata": {},
   "outputs": [
    {
     "name": "stdout",
     "output_type": "stream",
     "text": [
      "\n",
      "Stats of batch 1:\n",
      "Samples: 10000\n",
      "Label Counts: {0: 1005, 1: 974, 2: 1032, 3: 1016, 4: 999, 5: 937, 6: 1030, 7: 1001, 8: 1025, 9: 981}\n",
      "First 20 Labels: [6, 9, 9, 4, 1, 1, 2, 7, 8, 3, 4, 7, 7, 2, 9, 9, 9, 3, 2, 6]\n",
      "\n",
      "Example of Image 4:\n",
      "Image - Min Value: 0 Max Value: 254\n",
      "Image - Shape: (32, 32, 3)\n",
      "Label - Label Id: 1 Name: automobile\n",
      "Automatic pdb calling has been turned ON\n"
     ]
    },
    {
     "data": {
      "image/png": "[encoded data removed]",
      "text/plain": [
       "<matplotlib.figure.Figure at 0x7fe6ab006b38>"
      ]
     },
     "metadata": {
      "image/png": {
       "height": 250,
       "width": 253
      }
     },
     "output_type": "display_data"
    }
   ],
   "source": [
    "%matplotlib inline\n",
    "%config InlineBackend.figure_format = 'retina'\n",
    "\n",
    "import helper\n",
    "import numpy as np\n",
    "\n",
    "# Explore the dataset\n",
    "batch_id = 1\n",
    "sample_id = 4\n",
    "helper.display_stats(cifar10_dataset_folder_path, batch_id, sample_id)\n",
    "\n",
    "%pdb"
   ]
  },
  {
   "cell_type": "markdown",
   "metadata": {},
   "source": [
    "## Implement Preprocess Functions\n",
    "### Normalize\n",
    "In the cell below, implement the `normalize` function to take in image data, `x`, and return it as a normalized Numpy array. The values should be in the range of 0 to 1, inclusive.  The return object should be the same shape as `x`."
   ]
  },
  {
   "cell_type": "code",
   "execution_count": 14,
   "metadata": {},
   "outputs": [
    {
     "name": "stdout",
     "output_type": "stream",
     "text": [
      "Tests Passed\n"
     ]
    }
   ],
   "source": [
    "def normalize(x):\n",
    "    \"\"\"\n",
    "    Normalize a list of sample image data in the range of 0 to 1\n",
    "    : x: List of image data.  The image shape is (32, 32, 3)\n",
    "    : return: Numpy array of normalize data\n",
    "    \"\"\"\n",
    "    # TODO: Implement Function\n",
    "    #print (x/np.max(x, axis = 0))\n",
    "    return x/np.max(x, axis = 0)\n",
    "\n",
    "\n",
    "\"\"\"\n",
    "DON'T MODIFY ANYTHING IN THIS CELL THAT IS BELOW THIS LINE\n",
    "\"\"\"\n",
    "tests.test_normalize(normalize)"
   ]
  },
  {
   "cell_type": "markdown",
   "metadata": {},
   "source": [
    "### One-hot encode\n",
    "Just like the previous code cell, you'll be implementing a function for preprocessing.  This time, you'll implement the `one_hot_encode` function. The input, `x`, are a list of labels.  Implement the function to return the list of labels as One-Hot encoded Numpy array.  The possible values for labels are 0 to 9. The one-hot encoding function should return the same encoding for each value between each call to `one_hot_encode`.  Make sure to save the map of encodings outside the function.\n",
    "\n",
    "Hint: Don't reinvent the wheel."
   ]
  },
  {
   "cell_type": "code",
   "execution_count": 15,
   "metadata": {},
   "outputs": [
    {
     "name": "stdout",
     "output_type": "stream",
     "text": [
      "Tests Passed\n"
     ]
    }
   ],
   "source": [
    "\n",
    "def one_hot_encode(x):\n",
    "    \"\"\"\n",
    "    One hot encode a list of sample labels. Return a one-hot encoded vector for each label.\n",
    "    : x: List of sample Labels\n",
    "    : return: Numpy array of one-hot encoded labels\n",
    "    \"\"\"\n",
    "    arr = np.array(x)\n",
    "    zeroarray = np.zeros((len(x), 10))\n",
    "    \n",
    "    #print(emptyarray)\n",
    "    for i,label in enumerate(arr):   \n",
    "       zeroarray[i,label] = 1 \n",
    "\n",
    "    #print(x)\n",
    "    #print(zeroarray[:,1])\n",
    "    #print(zeroarray)\n",
    "    return zeroarray\n",
    "\n",
    "\n",
    "\"\"\"\n",
    "DON'T MODIFY ANYTHING IN THIS CELL THAT IS BELOW THIS LINE\n",
    "\"\"\"\n",
    "tests.test_one_hot_encode(one_hot_encode)"
   ]
  },
  {
   "cell_type": "markdown",
   "metadata": {},
   "source": [
    "### Randomize Data\n",
    "As you saw from exploring the data above, the order of the samples are randomized.  It doesn't hurt to randomize it again, but you don't need to for this dataset."
   ]
  },
  {
   "cell_type": "markdown",
   "metadata": {},
   "source": [
    "## Preprocess all the data and save it\n",
    "Running the code cell below will preprocess all the CIFAR-10 data and save it to file. The code below also uses 10% of the training data for validation."
   ]
  },
  {
   "cell_type": "code",
   "execution_count": 16,
   "metadata": {
    "collapsed": true
   },
   "outputs": [],
   "source": [
    "\"\"\"\n",
    "DON'T MODIFY ANYTHING IN THIS CELL\n",
    "\"\"\"\n",
    "# Preprocess Training, Validation, and Testing Data\n",
    "helper.preprocess_and_save_data(cifar10_dataset_folder_path, normalize, one_hot_encode)"
   ]
  },
  {
   "cell_type": "markdown",
   "metadata": {},
   "source": [
    "# Check Point\n",
    "This is your first checkpoint.  If you ever decide to come back to this notebook or have to restart the notebook, you can start from here.  The preprocessed data has been saved to disk."
   ]
  },
  {
   "cell_type": "code",
   "execution_count": 17,
   "metadata": {
    "collapsed": true
   },
   "outputs": [],
   "source": [
    "\"\"\"\n",
    "DON'T MODIFY ANYTHING IN THIS CELL\n",
    "\"\"\"\n",
    "import pickle\n",
    "import problem_unittests as tests\n",
    "import helper\n",
    "\n",
    "# Load the Preprocessed Validation data\n",
    "valid_features, valid_labels = pickle.load(open('preprocess_validation.p', mode='rb'))"
   ]
  },
  {
   "cell_type": "markdown",
   "metadata": {},
   "source": [
    "## Build the network\n",
    "For the neural network, you'll build each layer into a function.  Most of the code you've seen has been outside of functions. To test your code more thoroughly, we require that you put each layer in a function.  This allows us to give you better feedback and test for simple mistakes using our unittests before you submit your project.\n",
    "\n",
    ">**Note:** If you're finding it hard to dedicate enough time for this course each week, we've provided a small shortcut to this part of the project. In the next couple of problems, you'll have the option to use classes from the [TensorFlow Layers](https://www.tensorflow.org/api_docs/python/tf/layers) or [TensorFlow Layers (contrib)](https://www.tensorflow.org/api_guides/python/contrib.layers) packages to build each layer, except the layers you build in the \"Convolutional and Max Pooling Layer\" section.  TF Layers is similar to Keras's and TFLearn's abstraction to layers, so it's easy to pickup.\n",
    "\n",
    ">However, if you would like to get the most out of this course, try to solve all the problems _without_ using anything from the TF Layers packages. You **can** still use classes from other packages that happen to have the same name as ones you find in TF Layers! For example, instead of using the TF Layers version of the `conv2d` class, [tf.layers.conv2d](https://www.tensorflow.org/api_docs/python/tf/layers/conv2d), you would want to use the TF Neural Network version of `conv2d`, [tf.nn.conv2d](https://www.tensorflow.org/api_docs/python/tf/nn/conv2d). \n",
    "\n",
    "Let's begin!\n",
    "\n",
    "### Input\n",
    "The neural network needs to read the image data, one-hot encoded labels, and dropout keep probability. Implement the following functions\n",
    "* Implement `neural_net_image_input`\n",
    " * Return a [TF Placeholder](https://www.tensorflow.org/api_docs/python/tf/placeholder)\n",
    " * Set the shape using `image_shape` with batch size set to `None`.\n",
    " * Name the TensorFlow placeholder \"x\" using the TensorFlow `name` parameter in the [TF Placeholder](https://www.tensorflow.org/api_docs/python/tf/placeholder).\n",
    "* Implement `neural_net_label_input`\n",
    " * Return a [TF Placeholder](https://www.tensorflow.org/api_docs/python/tf/placeholder)\n",
    " * Set the shape using `n_classes` with batch size set to `None`.\n",
    " * Name the TensorFlow placeholder \"y\" using the TensorFlow `name` parameter in the [TF Placeholder](https://www.tensorflow.org/api_docs/python/tf/placeholder).\n",
    "* Implement `neural_net_keep_prob_input`\n",
    " * Return a [TF Placeholder](https://www.tensorflow.org/api_docs/python/tf/placeholder) for dropout keep probability.\n",
    " * Name the TensorFlow placeholder \"keep_prob\" using the TensorFlow `name` parameter in the [TF Placeholder](https://www.tensorflow.org/api_docs/python/tf/placeholder).\n",
    "\n",
    "These names will be used at the end of the project to load your saved model.\n",
    "\n",
    "Note: `None` for shapes in TensorFlow allow for a dynamic size."
   ]
  },
  {
   "cell_type": "code",
   "execution_count": 18,
   "metadata": {},
   "outputs": [
    {
     "name": "stdout",
     "output_type": "stream",
     "text": [
      "Image Input Tests Passed.\n",
      "Label Input Tests Passed.\n",
      "Keep Prob Tests Passed.\n"
     ]
    }
   ],
   "source": [
    "import tensorflow as tf\n",
    "\n",
    "def neural_net_image_input(image_shape):\n",
    "    \"\"\"\n",
    "    Return a Tensor for a bach of image input\n",
    "    : image_shape: Shape of the images\n",
    "    : return: Tensor for image input.\n",
    "    \"\"\"\n",
    "    # TODO: Implement Function\n",
    "    return tf.placeholder(tf.float32, shape=(None,image_shape[0],image_shape[1],image_shape[2]),name=\"x\")\n",
    "\n",
    "\n",
    "def neural_net_label_input(n_classes):\n",
    "    \"\"\"\n",
    "    Return a Tensor for a batch of label input\n",
    "    : n_classes: Number of classes\n",
    "    : return: Tensor for label input.\n",
    "    \"\"\"\n",
    "    # TODO: Implement Function\n",
    "    return tf.placeholder(tf.float32, shape=(None,n_classes),name=\"y\" )\n",
    "\n",
    "\n",
    "def neural_net_keep_prob_input():\n",
    "    \"\"\"\n",
    "    Return a Tensor for keep probability\n",
    "    : return: Tensor for keep probability.\n",
    "    \"\"\"\n",
    "    # TODO: Implement Function\n",
    "    return tf.placeholder(tf.float32, name=\"keep_prob\" )\n",
    "\n",
    "\n",
    "\"\"\"\n",
    "DON'T MODIFY ANYTHING IN THIS CELL THAT IS BELOW THIS LINE\n",
    "\"\"\"\n",
    "tf.reset_default_graph()\n",
    "tests.test_nn_image_inputs(neural_net_image_input)\n",
    "tests.test_nn_label_inputs(neural_net_label_input)\n",
    "tests.test_nn_keep_prob_inputs(neural_net_keep_prob_input)"
   ]
  },
  {
   "cell_type": "markdown",
   "metadata": {},
   "source": [
    "### Convolution and Max Pooling Layer\n",
    "Convolution layers have a lot of success with images. For this code cell, you should implement the function `conv2d_maxpool` to apply convolution then max pooling:\n",
    "* Create the weight and bias using `conv_ksize`, `conv_num_outputs` and the shape of `x_tensor`.\n",
    "* Apply a convolution to `x_tensor` using weight and `conv_strides`.\n",
    " * We recommend you use same padding, but you're welcome to use any padding.\n",
    "* Add bias\n",
    "* Add a nonlinear activation to the convolution.\n",
    "* Apply Max Pooling using `pool_ksize` and `pool_strides`.\n",
    " * We recommend you use same padding, but you're welcome to use any padding.\n",
    "\n",
    "**Note:** You **can't** use [TensorFlow Layers](https://www.tensorflow.org/api_docs/python/tf/layers) or [TensorFlow Layers (contrib)](https://www.tensorflow.org/api_guides/python/contrib.layers) for **this** layer, but you can still use TensorFlow's [Neural Network](https://www.tensorflow.org/api_docs/python/tf/nn) package. You may still use the shortcut option for all the **other** layers."
   ]
  },
  {
   "cell_type": "code",
   "execution_count": 19,
   "metadata": {},
   "outputs": [
    {
     "name": "stdout",
     "output_type": "stream",
     "text": [
      "Tests Passed\n"
     ]
    }
   ],
   "source": [
    "def conv2d_maxpool(x_tensor, conv_num_outputs, conv_ksize, conv_strides, pool_ksize, pool_strides):\n",
    "    \"\"\"\n",
    "    Apply convolution then max pooling to x_tensor\n",
    "    :param x_tensor: TensorFlow Tensor\n",
    "    \n",
    "    :param conv_num_outputs: Number of outputs for the convolutional layer\n",
    "    \n",
    "    :param conv_ksize: kernal size 2-D Tuple for the convolutional layer\n",
    "    :param conv_strides: Stride 2-D Tuple for convolution\n",
    "    \n",
    "    :param pool_ksize: kernal size 2-D Tuple for pool\n",
    "    :param pool_strides: Stride 2-D Tuple for pool\n",
    "    \n",
    "    : return: A tensor that represents convolution and max pooling of x_tensor\n",
    "    \"\"\"\n",
    "    # TODO: Implement Function\n",
    "    weight = tf.Variable(tf.truncated_normal([conv_ksize[0], conv_ksize[1], int(x_tensor.get_shape()[3]), conv_num_outputs]))\n",
    "    bias = tf.Variable(tf.zeros(conv_num_outputs))\n",
    "    \n",
    "    # Apply Convolution\n",
    "    conv_layer = tf.nn.conv2d(x_tensor, weight, strides=[1, conv_strides[0], conv_strides[1], 1], padding='SAME')\n",
    "    # Add bias\n",
    "    conv_layer = tf.nn.bias_add(conv_layer, bias)\n",
    "    \n",
    "    # Apply activation function\n",
    "    conv_layer = tf.nn.relu(conv_layer)\n",
    "    \n",
    "    max_pool_ksize = [1, pool_ksize[0], pool_ksize[1], 1]\n",
    "    \n",
    "    max_pool_strides = [1, pool_strides[0], pool_strides[1], 1]\n",
    "    \n",
    "    maxpool = tf.nn.max_pool(conv_layer, max_pool_ksize, max_pool_strides, padding='SAME')\n",
    "    \n",
    "    return  maxpool\n",
    "\n",
    "\n",
    "\"\"\"\n",
    "DON'T MODIFY ANYTHING IN THIS CELL THAT IS BELOW THIS LINE\n",
    "\"\"\"\n",
    "tests.test_con_pool(conv2d_maxpool)"
   ]
  },
  {
   "cell_type": "markdown",
   "metadata": {},
   "source": [
    "### Flatten Layer\n",
    "Implement the `flatten` function to change the dimension of `x_tensor` from a 4-D tensor to a 2-D tensor.  The output should be the shape (*Batch Size*, *Flattened Image Size*). Shortcut option: you can use classes from the [TensorFlow Layers](https://www.tensorflow.org/api_docs/python/tf/layers) or [TensorFlow Layers (contrib)](https://www.tensorflow.org/api_guides/python/contrib.layers) packages for this layer. For more of a challenge, only use other TensorFlow packages."
   ]
  },
  {
   "cell_type": "code",
   "execution_count": 20,
   "metadata": {},
   "outputs": [
    {
     "name": "stdout",
     "output_type": "stream",
     "text": [
      "Tests Passed\n"
     ]
    }
   ],
   "source": [
    "def flatten(x_tensor):\n",
    "    \"\"\"\n",
    "    Flatten x_tensor to (Batch Size, Flattened Image Size)\n",
    "    : x_tensor: A tensor of size (Batch Size, ...), where ... are the image dimensions.\n",
    "    : return: A tensor of size (Batch Size, Flattened Image Size).\n",
    "    \"\"\"\n",
    "    # TODO: Implement Function\n",
    "    return tf.contrib.layers.flatten(x_tensor)\n",
    "\n",
    "\n",
    "\"\"\"\n",
    "DON'T MODIFY ANYTHING IN THIS CELL THAT IS BELOW THIS LINE\n",
    "\"\"\"\n",
    "tests.test_flatten(flatten)"
   ]
  },
  {
   "cell_type": "markdown",
   "metadata": {},
   "source": [
    "### Fully-Connected Layer\n",
    "Implement the `fully_conn` function to apply a fully connected layer to `x_tensor` with the shape (*Batch Size*, *num_outputs*). Shortcut option: you can use classes from the [TensorFlow Layers](https://www.tensorflow.org/api_docs/python/tf/layers) or [TensorFlow Layers (contrib)](https://www.tensorflow.org/api_guides/python/contrib.layers) packages for this layer. For more of a challenge, only use other TensorFlow packages."
   ]
  },
  {
   "cell_type": "code",
   "execution_count": 21,
   "metadata": {},
   "outputs": [
    {
     "name": "stdout",
     "output_type": "stream",
     "text": [
      "Tests Passed\n"
     ]
    }
   ],
   "source": [
    "def fully_conn(x_tensor, num_outputs):\n",
    "    \"\"\"\n",
    "    Apply a fully connected layer to x_tensor using weight and bias\n",
    "    : x_tensor: A 2-D tensor where the first dimension is batch size.\n",
    "    : num_outputs: The number of output that the new tensor should be.\n",
    "    : return: A 2-D tensor where the second dimension is num_outputs.\n",
    "    \"\"\"\n",
    "    # TODO: Implement Function\n",
    "    return tf.contrib.layers.fully_connected(inputs=x_tensor,num_outputs=num_outputs)\n",
    "\n",
    "\n",
    "\"\"\"\n",
    "DON'T MODIFY ANYTHING IN THIS CELL THAT IS BELOW THIS LINE\n",
    "\"\"\"\n",
    "tests.test_fully_conn(fully_conn)"
   ]
  },
  {
   "cell_type": "markdown",
   "metadata": {},
   "source": [
    "### Output Layer\n",
    "Implement the `output` function to apply a fully connected layer to `x_tensor` with the shape (*Batch Size*, *num_outputs*). Shortcut option: you can use classes from the [TensorFlow Layers](https://www.tensorflow.org/api_docs/python/tf/layers) or [TensorFlow Layers (contrib)](https://www.tensorflow.org/api_guides/python/contrib.layers) packages for this layer. For more of a challenge, only use other TensorFlow packages.\n",
    "\n",
    "**Note:** Activation, softmax, or cross entropy should **not** be applied to this."
   ]
  },
  {
   "cell_type": "code",
   "execution_count": 22,
   "metadata": {},
   "outputs": [
    {
     "name": "stdout",
     "output_type": "stream",
     "text": [
      "Tests Passed\n"
     ]
    }
   ],
   "source": [
    "def output(x_tensor, num_outputs):\n",
    "    \"\"\"\n",
    "    Apply a output layer to x_tensor using weight and bias\n",
    "    : x_tensor: A 2-D tensor where the first dimension is batch size.\n",
    "    : num_outputs: The number of output that the new tensor should be.\n",
    "    : return: A 2-D tensor where the second dimension is num_outputs.\n",
    "    \"\"\"\n",
    "    # TODO: Implement Function\n",
    "    return tf.contrib.layers.fully_connected(inputs=x_tensor,num_outputs=num_outputs)\n",
    "\n",
    "\n",
    "\"\"\"\n",
    "DON'T MODIFY ANYTHING IN THIS CELL THAT IS BELOW THIS LINE\n",
    "\"\"\"\n",
    "tests.test_output(output)"
   ]
  },
  {
   "cell_type": "markdown",
   "metadata": {},
   "source": [
    "### Create Convolutional Model\n",
    "Implement the function `conv_net` to create a convolutional neural network model. The function takes in a batch of images, `x`, and outputs logits.  Use the layers you created above to create this model:\n",
    "\n",
    "* Apply 1, 2, or 3 Convolution and Max Pool layers\n",
    "* Apply a Flatten Layer\n",
    "* Apply 1, 2, or 3 Fully Connected Layers\n",
    "* Apply an Output Layer\n",
    "* Return the output\n",
    "* Apply [TensorFlow's Dropout](https://www.tensorflow.org/api_docs/python/tf/nn/dropout) to one or more layers in the model using `keep_prob`. "
   ]
  },
  {
   "cell_type": "code",
   "execution_count": 23,
   "metadata": {},
   "outputs": [
    {
     "name": "stdout",
     "output_type": "stream",
     "text": [
      "Neural Network Built!\n"
     ]
    }
   ],
   "source": [
    "def conv_net(x, keep_prob):\n",
    "    \"\"\"\n",
    "    Create a convolutional neural network model\n",
    "    : x: Placeholder tensor that holds image data.\n",
    "    : keep_prob: Placeholder tensor that hold dropout keep probability.\n",
    "    : return: Tensor that represents logits\n",
    "    \"\"\"\n",
    "    \n",
    "    # TODO: Apply 1, 2, or 3 Convolution and Max Pool layers\n",
    "    #    Play around with different number of outputs, kernel size and stride\n",
    "    # Function Definition from Above:\n",
    "    #    conv2d_maxpool(x_tensor, conv_num_outputs, conv_ksize, conv_strides, pool_ksize, pool_strides)\n",
    "    \n",
    "    \n",
    "    x_tensor =  conv2d_maxpool(x, 10, (2,2), (2,2), (2,2), (2,2))\n",
    "    x_tensor = tf.nn.dropout(x=x_tensor,keep_prob=keep_prob)\n",
    "    \n",
    "    x_tensor =  conv2d_maxpool(x, 10, (2,2), (2,2), (2,2), (2,2))\n",
    "    x_tensor = tf.nn.dropout(x=x_tensor,keep_prob=keep_prob)\n",
    "    \n",
    "    x_tensor =  conv2d_maxpool(x, 10, (2,2), (2,2), (2,2), (2,2))\n",
    "    x_tensor = tf.nn.dropout(x=x_tensor,keep_prob=keep_prob)\n",
    "\n",
    "    # TODO: Apply a Flatten Layer\n",
    "    # Function Definition from Above:\n",
    "    #   flatten(x_tensor)\n",
    "    x_tensor = flatten(x_tensor)\n",
    "\n",
    "    # TODO: Apply 1, 2, or 3 Fully Connected Layers\n",
    "    #    Play around with different number of outputs\n",
    "    # Function Definition from Above:\n",
    "    #   fully_conn(x_tensor, num_outputs)\n",
    "    x_tensor = fully_conn(x_tensor,10)\n",
    "    \n",
    "    #x_tensor = fully_conn(x_tensor,128)\n",
    "    \n",
    "    \n",
    "    # TODO: Apply an Output Layer\n",
    "    #    Set this to the number of classes\n",
    "    # Function Definition from Above:\n",
    "    #   output(x_tensor, num_outputs)\n",
    "    x_tensor = output(x_tensor,10)\n",
    "    \n",
    "    \n",
    "    # TODO: return output\n",
    "    return x_tensor\n",
    "\n",
    "\n",
    "\"\"\"\n",
    "DON'T MODIFY ANYTHING IN THIS CELL THAT IS BELOW THIS LINE\n",
    "\"\"\"\n",
    "\n",
    "##############################\n",
    "## Build the Neural Network ##\n",
    "##############################\n",
    "\n",
    "# Remove previous weights, bias, inputs, etc..\n",
    "tf.reset_default_graph()\n",
    "\n",
    "# Inputs\n",
    "x = neural_net_image_input((32, 32, 3))\n",
    "y = neural_net_label_input(10)\n",
    "keep_prob = neural_net_keep_prob_input()\n",
    "\n",
    "# Model\n",
    "logits = conv_net(x, keep_prob)\n",
    "\n",
    "# Name logits Tensor, so that is can be loaded from disk after training\n",
    "logits = tf.identity(logits, name='logits')\n",
    "\n",
    "# Loss and Optimizer\n",
    "cost = tf.reduce_mean(tf.nn.softmax_cross_entropy_with_logits(logits=logits, labels=y))\n",
    "optimizer = tf.train.AdamOptimizer().minimize(cost)\n",
    "\n",
    "# Accuracy\n",
    "correct_pred = tf.equal(tf.argmax(logits, 1), tf.argmax(y, 1))\n",
    "accuracy = tf.reduce_mean(tf.cast(correct_pred, tf.float32), name='accuracy')\n",
    "\n",
    "tests.test_conv_net(conv_net)"
   ]
  },
  {
   "cell_type": "markdown",
   "metadata": {},
   "source": [
    "## Train the Neural Network\n",
    "### Single Optimization\n",
    "Implement the function `train_neural_network` to do a single optimization.  The optimization should use `optimizer` to optimize in `session` with a `feed_dict` of the following:\n",
    "* `x` for image input\n",
    "* `y` for labels\n",
    "* `keep_prob` for keep probability for dropout\n",
    "\n",
    "This function will be called for each batch, so `tf.global_variables_initializer()` has already been called.\n",
    "\n",
    "Note: Nothing needs to be returned. This function is only optimizing the neural network."
   ]
  },
  {
   "cell_type": "code",
   "execution_count": 24,
   "metadata": {},
   "outputs": [
    {
     "name": "stdout",
     "output_type": "stream",
     "text": [
      "Tests Passed\n"
     ]
    }
   ],
   "source": [
    "def train_neural_network(session, optimizer, keep_probability, feature_batch, label_batch):\n",
    "    \"\"\"\n",
    "    Optimize the session on a batch of images and labels\n",
    "    : session: Current TensorFlow session\n",
    "    : optimizer: TensorFlow optimizer function\n",
    "    : keep_probability: keep probability\n",
    "    : feature_batch: Batch of Numpy image data\n",
    "    : label_batch: Batch of Numpy label data\n",
    "    \"\"\"\n",
    "    # TODO: Implement Function\n",
    "    train_feed_dict = {\n",
    "                x: feature_batch,\n",
    "                y: label_batch,\n",
    "                keep_prob: keep_probability}\n",
    "    session.run(optimizer, feed_dict=train_feed_dict)\n",
    "\n",
    "\n",
    "\"\"\"\n",
    "DON'T MODIFY ANYTHING IN THIS CELL THAT IS BELOW THIS LINE\n",
    "\"\"\"\n",
    "tests.test_train_nn(train_neural_network)"
   ]
  },
  {
   "cell_type": "markdown",
   "metadata": {},
   "source": [
    "### Show Stats\n",
    "Implement the function `print_stats` to print loss and validation accuracy.  Use the global variables `valid_features` and `valid_labels` to calculate validation accuracy.  Use a keep probability of `1.0` to calculate the loss and validation accuracy."
   ]
  },
  {
   "cell_type": "code",
   "execution_count": 25,
   "metadata": {
    "collapsed": true
   },
   "outputs": [],
   "source": [
    "def print_stats(session, feature_batch, label_batch, cost, accuracy):\n",
    "    \"\"\"\n",
    "    Print information about loss and validation accuracy\n",
    "    : session: Current TensorFlow session\n",
    "    : feature_batch: Batch of Numpy image data\n",
    "    : label_batch: Batch of Numpy label data\n",
    "    : cost: TensorFlow cost function\n",
    "    : accuracy: TensorFlow accuracy function\n",
    "    \"\"\"\n",
    "    loss = session.run(cost, feed_dict={x: feature_batch, y: label_batch, keep_prob: 1})\n",
    "    valid = sess.run(accuracy, feed_dict={x: valid_features, y: valid_labels, keep_prob: 1})\n",
    "    print('Loss: {:10.4f} Validation Accuracy: {:.6f}'.format(loss, valid))"
   ]
  },
  {
   "cell_type": "markdown",
   "metadata": {},
   "source": [
    "### Hyperparameters\n",
    "Tune the following parameters:\n",
    "* Set `epochs` to the number of iterations until the network stops learning or start overfitting\n",
    "* Set `batch_size` to the highest number that your machine has memory for.  Most people set them to common sizes of memory:\n",
    " * 64\n",
    " * 128\n",
    " * 256\n",
    " * ...\n",
    "* Set `keep_probability` to the probability of keeping a node using dropout"
   ]
  },
  {
   "cell_type": "code",
   "execution_count": 26,
   "metadata": {
    "collapsed": true
   },
   "outputs": [],
   "source": [
    "# TODO: Tune Parameters\n",
    "epochs = 35\n",
    "batch_size = 128\n",
    "keep_probability = 0.7"
   ]
  },
  {
   "cell_type": "markdown",
   "metadata": {},
   "source": [
    "### Train on a Single CIFAR-10 Batch\n",
    "Instead of training the neural network on all the CIFAR-10 batches of data, let's use a single batch. This should save time while you iterate on the model to get a better accuracy.  Once the final validation accuracy is 50% or greater, run the model on all the data in the next section."
   ]
  },
  {
   "cell_type": "code",
   "execution_count": 27,
   "metadata": {},
   "outputs": [
    {
     "name": "stdout",
     "output_type": "stream",
     "text": [
      "Checking the Training on a Single Batch...\n",
      "Epoch  1, CIFAR-10 Batch 1:  Loss:     2.3028 Validation Accuracy: 0.100000\n",
      "Epoch  2, CIFAR-10 Batch 1:  Loss:     2.3029 Validation Accuracy: 0.100000\n",
      "Epoch  3, CIFAR-10 Batch 1:  Loss:     2.3030 Validation Accuracy: 0.100000\n",
      "Epoch  4, CIFAR-10 Batch 1:  Loss:     2.3030 Validation Accuracy: 0.100000\n",
      "Epoch  5, CIFAR-10 Batch 1:  Loss:     2.3031 Validation Accuracy: 0.100000\n",
      "Epoch  6, CIFAR-10 Batch 1:  Loss:     2.3031 Validation Accuracy: 0.099800\n",
      "Epoch  7, CIFAR-10 Batch 1:  Loss:     2.3031 Validation Accuracy: 0.099800\n",
      "Epoch  8, CIFAR-10 Batch 1:  Loss:     2.3031 Validation Accuracy: 0.100000\n",
      "Epoch  9, CIFAR-10 Batch 1:  Loss:     2.2424 Validation Accuracy: 0.163600\n",
      "Epoch 10, CIFAR-10 Batch 1:  Loss:     2.2433 Validation Accuracy: 0.187000\n",
      "Epoch 11, CIFAR-10 Batch 1:  Loss:     2.2540 Validation Accuracy: 0.181000\n",
      "Epoch 12, CIFAR-10 Batch 1:  Loss:     2.2622 Validation Accuracy: 0.200400\n",
      "Epoch 13, CIFAR-10 Batch 1:  Loss:     2.2874 Validation Accuracy: 0.201600\n",
      "Epoch 14, CIFAR-10 Batch 1:  Loss:     2.3048 Validation Accuracy: 0.210200\n",
      "Epoch 15, CIFAR-10 Batch 1:  Loss:     2.2945 Validation Accuracy: 0.225600\n",
      "Epoch 16, CIFAR-10 Batch 1:  Loss:     2.2923 Validation Accuracy: 0.228200\n",
      "Epoch 17, CIFAR-10 Batch 1:  Loss:     2.2826 Validation Accuracy: 0.236400\n",
      "Epoch 18, CIFAR-10 Batch 1:  Loss:     2.2652 Validation Accuracy: 0.243600\n",
      "Epoch 19, CIFAR-10 Batch 1:  Loss:     2.2477 Validation Accuracy: 0.256400\n",
      "Epoch 20, CIFAR-10 Batch 1:  Loss:     2.2695 Validation Accuracy: 0.269800\n",
      "Epoch 21, CIFAR-10 Batch 1:  Loss:     2.2714 Validation Accuracy: 0.268600\n",
      "Epoch 22, CIFAR-10 Batch 1:  Loss:     2.2687 Validation Accuracy: 0.262800\n",
      "Epoch 23, CIFAR-10 Batch 1:  Loss:     2.2718 Validation Accuracy: 0.269000\n",
      "Epoch 24, CIFAR-10 Batch 1:  Loss:     2.2803 Validation Accuracy: 0.273000\n",
      "Epoch 25, CIFAR-10 Batch 1:  Loss:     2.2414 Validation Accuracy: 0.265800\n",
      "Epoch 26, CIFAR-10 Batch 1:  Loss:     2.2666 Validation Accuracy: 0.264600\n",
      "Epoch 27, CIFAR-10 Batch 1:  Loss:     2.2611 Validation Accuracy: 0.272800\n",
      "Epoch 28, CIFAR-10 Batch 1:  Loss:     2.2528 Validation Accuracy: 0.277000\n",
      "Epoch 29, CIFAR-10 Batch 1:  Loss:     2.2550 Validation Accuracy: 0.275000\n",
      "Epoch 30, CIFAR-10 Batch 1:  Loss:     2.2381 Validation Accuracy: 0.271000\n",
      "Epoch 31, CIFAR-10 Batch 1:  Loss:     2.2030 Validation Accuracy: 0.275800\n",
      "Epoch 32, CIFAR-10 Batch 1:  Loss:     2.1933 Validation Accuracy: 0.275800\n",
      "Epoch 33, CIFAR-10 Batch 1:  Loss:     2.2111 Validation Accuracy: 0.279400\n",
      "Epoch 34, CIFAR-10 Batch 1:  Loss:     2.2072 Validation Accuracy: 0.281000\n",
      "Epoch 35, CIFAR-10 Batch 1:  Loss:     2.1970 Validation Accuracy: 0.282200\n"
     ]
    }
   ],
   "source": [
    "\"\"\"\n",
    "DON'T MODIFY ANYTHING IN THIS CELL\n",
    "\"\"\"\n",
    "print('Checking the Training on a Single Batch...')\n",
    "with tf.Session() as sess:\n",
    "    # Initializing the variables\n",
    "    sess.run(tf.global_variables_initializer())\n",
    "    \n",
    "    # Training cycle\n",
    "    for epoch in range(epochs):\n",
    "        batch_i = 1\n",
    "        for batch_features, batch_labels in helper.load_preprocess_training_batch(batch_i, batch_size):\n",
    "            train_neural_network(sess, optimizer, keep_probability, batch_features, batch_labels)\n",
    "        print('Epoch {:>2}, CIFAR-10 Batch {}:  '.format(epoch + 1, batch_i), end='')\n",
    "        print_stats(sess, batch_features, batch_labels, cost, accuracy)"
   ]
  },
  {
   "cell_type": "markdown",
   "metadata": {},
   "source": [
    "### Fully Train the Model\n",
    "Now that you got a good accuracy with a single CIFAR-10 batch, try it with all five batches."
   ]
  },
  {
   "cell_type": "code",
   "execution_count": 28,
   "metadata": {},
   "outputs": [
    {
     "name": "stdout",
     "output_type": "stream",
     "text": [
      "Training...\n",
      "Epoch  1, CIFAR-10 Batch 1:  Loss:     2.3008 Validation Accuracy: 0.113000\n",
      "Epoch  1, CIFAR-10 Batch 2:  Loss:     2.3037 Validation Accuracy: 0.158800\n",
      "Epoch  1, CIFAR-10 Batch 3:  Loss:     2.2248 Validation Accuracy: 0.174000\n",
      "Epoch  1, CIFAR-10 Batch 4:  Loss:     2.2573 Validation Accuracy: 0.186600\n",
      "Epoch  1, CIFAR-10 Batch 5:  Loss:     2.1445 Validation Accuracy: 0.230800\n",
      "Epoch  2, CIFAR-10 Batch 1:  Loss:     2.1428 Validation Accuracy: 0.273200\n",
      "Epoch  2, CIFAR-10 Batch 2:  Loss:     1.9536 Validation Accuracy: 0.313200\n",
      "Epoch  2, CIFAR-10 Batch 3:  Loss:     1.9120 Validation Accuracy: 0.333800\n",
      "Epoch  2, CIFAR-10 Batch 4:  Loss:     1.9740 Validation Accuracy: 0.324600\n",
      "Epoch  2, CIFAR-10 Batch 5:  Loss:     1.8299 Validation Accuracy: 0.343600\n",
      "Epoch  3, CIFAR-10 Batch 1:  Loss:     1.9221 Validation Accuracy: 0.351600\n",
      "Epoch  3, CIFAR-10 Batch 2:  Loss:     1.7052 Validation Accuracy: 0.362600\n",
      "Epoch  3, CIFAR-10 Batch 3:  Loss:     1.7492 Validation Accuracy: 0.381200\n",
      "Epoch  3, CIFAR-10 Batch 4:  Loss:     1.8149 Validation Accuracy: 0.384800\n",
      "Epoch  3, CIFAR-10 Batch 5:  Loss:     1.7226 Validation Accuracy: 0.394400\n",
      "Epoch  4, CIFAR-10 Batch 1:  Loss:     1.8552 Validation Accuracy: 0.389000\n",
      "Epoch  4, CIFAR-10 Batch 2:  Loss:     1.6361 Validation Accuracy: 0.389400\n",
      "Epoch  4, CIFAR-10 Batch 3:  Loss:     1.6830 Validation Accuracy: 0.404000\n",
      "Epoch  4, CIFAR-10 Batch 4:  Loss:     1.7260 Validation Accuracy: 0.407800\n",
      "Epoch  4, CIFAR-10 Batch 5:  Loss:     1.6715 Validation Accuracy: 0.417600\n",
      "Epoch  5, CIFAR-10 Batch 1:  Loss:     1.7875 Validation Accuracy: 0.407800\n",
      "Epoch  5, CIFAR-10 Batch 2:  Loss:     1.5771 Validation Accuracy: 0.412400\n",
      "Epoch  5, CIFAR-10 Batch 3:  Loss:     1.5901 Validation Accuracy: 0.425400\n",
      "Epoch  5, CIFAR-10 Batch 4:  Loss:     1.5870 Validation Accuracy: 0.432000\n",
      "Epoch  5, CIFAR-10 Batch 5:  Loss:     1.6292 Validation Accuracy: 0.454000\n",
      "Epoch  6, CIFAR-10 Batch 1:  Loss:     1.7044 Validation Accuracy: 0.441600\n",
      "Epoch  6, CIFAR-10 Batch 2:  Loss:     1.4377 Validation Accuracy: 0.437200\n",
      "Epoch  6, CIFAR-10 Batch 3:  Loss:     1.4895 Validation Accuracy: 0.448000\n",
      "Epoch  6, CIFAR-10 Batch 4:  Loss:     1.5368 Validation Accuracy: 0.458400\n",
      "Epoch  6, CIFAR-10 Batch 5:  Loss:     1.5615 Validation Accuracy: 0.464400\n",
      "Epoch  7, CIFAR-10 Batch 1:  Loss:     1.6610 Validation Accuracy: 0.456800\n",
      "Epoch  7, CIFAR-10 Batch 2:  Loss:     1.3808 Validation Accuracy: 0.448200\n",
      "Epoch  7, CIFAR-10 Batch 3:  Loss:     1.4349 Validation Accuracy: 0.460000\n",
      "Epoch  7, CIFAR-10 Batch 4:  Loss:     1.4996 Validation Accuracy: 0.462600\n",
      "Epoch  7, CIFAR-10 Batch 5:  Loss:     1.5377 Validation Accuracy: 0.463800\n",
      "Epoch  8, CIFAR-10 Batch 1:  Loss:     1.6276 Validation Accuracy: 0.467400\n",
      "Epoch  8, CIFAR-10 Batch 2:  Loss:     1.3601 Validation Accuracy: 0.458400\n",
      "Epoch  8, CIFAR-10 Batch 3:  Loss:     1.3933 Validation Accuracy: 0.466600\n",
      "Epoch  8, CIFAR-10 Batch 4:  Loss:     1.4742 Validation Accuracy: 0.474000\n",
      "Epoch  8, CIFAR-10 Batch 5:  Loss:     1.5395 Validation Accuracy: 0.478600\n",
      "Epoch  9, CIFAR-10 Batch 1:  Loss:     1.5536 Validation Accuracy: 0.478800\n",
      "Epoch  9, CIFAR-10 Batch 2:  Loss:     1.3153 Validation Accuracy: 0.481400\n",
      "Epoch  9, CIFAR-10 Batch 3:  Loss:     1.3350 Validation Accuracy: 0.480600\n",
      "Epoch  9, CIFAR-10 Batch 4:  Loss:     1.3990 Validation Accuracy: 0.488600\n",
      "Epoch  9, CIFAR-10 Batch 5:  Loss:     1.5260 Validation Accuracy: 0.492200\n",
      "Epoch 10, CIFAR-10 Batch 1:  Loss:     1.4926 Validation Accuracy: 0.492800\n",
      "Epoch 10, CIFAR-10 Batch 2:  Loss:     1.3054 Validation Accuracy: 0.486800\n",
      "Epoch 10, CIFAR-10 Batch 3:  Loss:     1.3178 Validation Accuracy: 0.492000\n",
      "Epoch 10, CIFAR-10 Batch 4:  Loss:     1.3850 Validation Accuracy: 0.497000\n",
      "Epoch 10, CIFAR-10 Batch 5:  Loss:     1.5239 Validation Accuracy: 0.495200\n",
      "Epoch 11, CIFAR-10 Batch 1:  Loss:     1.4733 Validation Accuracy: 0.493400\n",
      "Epoch 11, CIFAR-10 Batch 2:  Loss:     1.2925 Validation Accuracy: 0.493200\n",
      "Epoch 11, CIFAR-10 Batch 3:  Loss:     1.2981 Validation Accuracy: 0.494600\n",
      "Epoch 11, CIFAR-10 Batch 4:  Loss:     1.3753 Validation Accuracy: 0.499400\n",
      "Epoch 11, CIFAR-10 Batch 5:  Loss:     1.4973 Validation Accuracy: 0.495200\n",
      "Epoch 12, CIFAR-10 Batch 1:  Loss:     1.4753 Validation Accuracy: 0.497800\n",
      "Epoch 12, CIFAR-10 Batch 2:  Loss:     1.2762 Validation Accuracy: 0.494600\n",
      "Epoch 12, CIFAR-10 Batch 3:  Loss:     1.2878 Validation Accuracy: 0.502200\n",
      "Epoch 12, CIFAR-10 Batch 4:  Loss:     1.3338 Validation Accuracy: 0.508400\n",
      "Epoch 12, CIFAR-10 Batch 5:  Loss:     1.4789 Validation Accuracy: 0.498000\n",
      "Epoch 13, CIFAR-10 Batch 1:  Loss:     1.4545 Validation Accuracy: 0.504800\n",
      "Epoch 13, CIFAR-10 Batch 2:  Loss:     1.2497 Validation Accuracy: 0.503400\n",
      "Epoch 13, CIFAR-10 Batch 3:  Loss:     1.2846 Validation Accuracy: 0.505800\n",
      "Epoch 13, CIFAR-10 Batch 4:  Loss:     1.3372 Validation Accuracy: 0.507800\n",
      "Epoch 13, CIFAR-10 Batch 5:  Loss:     1.4534 Validation Accuracy: 0.506800\n",
      "Epoch 14, CIFAR-10 Batch 1:  Loss:     1.4595 Validation Accuracy: 0.506400\n",
      "Epoch 14, CIFAR-10 Batch 2:  Loss:     1.2492 Validation Accuracy: 0.509000\n",
      "Epoch 14, CIFAR-10 Batch 3:  Loss:     1.2569 Validation Accuracy: 0.506400\n",
      "Epoch 14, CIFAR-10 Batch 4:  Loss:     1.3085 Validation Accuracy: 0.511800\n",
      "Epoch 14, CIFAR-10 Batch 5:  Loss:     1.4185 Validation Accuracy: 0.511000\n",
      "Epoch 15, CIFAR-10 Batch 1:  Loss:     1.4321 Validation Accuracy: 0.510400\n",
      "Epoch 15, CIFAR-10 Batch 2:  Loss:     1.2384 Validation Accuracy: 0.509400\n",
      "Epoch 15, CIFAR-10 Batch 3:  Loss:     1.2336 Validation Accuracy: 0.508200\n",
      "Epoch 15, CIFAR-10 Batch 4:  Loss:     1.2982 Validation Accuracy: 0.513800\n",
      "Epoch 15, CIFAR-10 Batch 5:  Loss:     1.3896 Validation Accuracy: 0.512000\n",
      "Epoch 16, CIFAR-10 Batch 1:  Loss:     1.4221 Validation Accuracy: 0.515600\n",
      "Epoch 16, CIFAR-10 Batch 2:  Loss:     1.2213 Validation Accuracy: 0.515200\n",
      "Epoch 16, CIFAR-10 Batch 3:  Loss:     1.2355 Validation Accuracy: 0.512600\n",
      "Epoch 16, CIFAR-10 Batch 4:  Loss:     1.2967 Validation Accuracy: 0.516400\n",
      "Epoch 16, CIFAR-10 Batch 5:  Loss:     1.3778 Validation Accuracy: 0.513800\n",
      "Epoch 17, CIFAR-10 Batch 1:  Loss:     1.4146 Validation Accuracy: 0.516800\n",
      "Epoch 17, CIFAR-10 Batch 2:  Loss:     1.2142 Validation Accuracy: 0.517200\n",
      "Epoch 17, CIFAR-10 Batch 3:  Loss:     1.2150 Validation Accuracy: 0.513400\n",
      "Epoch 17, CIFAR-10 Batch 4:  Loss:     1.2726 Validation Accuracy: 0.520400\n",
      "Epoch 17, CIFAR-10 Batch 5:  Loss:     1.3872 Validation Accuracy: 0.518600\n",
      "Epoch 18, CIFAR-10 Batch 1:  Loss:     1.4222 Validation Accuracy: 0.523000\n",
      "Epoch 18, CIFAR-10 Batch 2:  Loss:     1.1970 Validation Accuracy: 0.522000\n",
      "Epoch 18, CIFAR-10 Batch 3:  Loss:     1.2136 Validation Accuracy: 0.516000\n",
      "Epoch 18, CIFAR-10 Batch 4:  Loss:     1.2616 Validation Accuracy: 0.522800\n",
      "Epoch 18, CIFAR-10 Batch 5:  Loss:     1.3645 Validation Accuracy: 0.517800\n",
      "Epoch 19, CIFAR-10 Batch 1:  Loss:     1.4142 Validation Accuracy: 0.523600\n",
      "Epoch 19, CIFAR-10 Batch 2:  Loss:     1.2006 Validation Accuracy: 0.522200\n",
      "Epoch 19, CIFAR-10 Batch 3:  Loss:     1.2042 Validation Accuracy: 0.516000\n",
      "Epoch 19, CIFAR-10 Batch 4:  Loss:     1.2476 Validation Accuracy: 0.527200\n",
      "Epoch 19, CIFAR-10 Batch 5:  Loss:     1.3535 Validation Accuracy: 0.520000\n",
      "Epoch 20, CIFAR-10 Batch 1:  Loss:     1.4191 Validation Accuracy: 0.526600\n",
      "Epoch 20, CIFAR-10 Batch 2:  Loss:     1.1714 Validation Accuracy: 0.524000\n",
      "Epoch 20, CIFAR-10 Batch 3:  Loss:     1.1878 Validation Accuracy: 0.524400\n",
      "Epoch 20, CIFAR-10 Batch 4:  Loss:     1.2580 Validation Accuracy: 0.524800\n",
      "Epoch 20, CIFAR-10 Batch 5:  Loss:     1.3522 Validation Accuracy: 0.520800\n",
      "Epoch 21, CIFAR-10 Batch 1:  Loss:     1.4008 Validation Accuracy: 0.529400\n",
      "Epoch 21, CIFAR-10 Batch 2:  Loss:     1.1761 Validation Accuracy: 0.525000\n",
      "Epoch 21, CIFAR-10 Batch 3:  Loss:     1.1830 Validation Accuracy: 0.523800\n",
      "Epoch 21, CIFAR-10 Batch 4:  Loss:     1.2469 Validation Accuracy: 0.528800\n",
      "Epoch 21, CIFAR-10 Batch 5:  Loss:     1.3413 Validation Accuracy: 0.524800\n",
      "Epoch 22, CIFAR-10 Batch 1:  Loss:     1.3878 Validation Accuracy: 0.528200\n",
      "Epoch 22, CIFAR-10 Batch 2:  Loss:     1.1598 Validation Accuracy: 0.530800\n",
      "Epoch 22, CIFAR-10 Batch 3:  Loss:     1.1779 Validation Accuracy: 0.525600\n"
     ]
    },
    {
     "name": "stdout",
     "output_type": "stream",
     "text": [
      "Epoch 22, CIFAR-10 Batch 4:  Loss:     1.2205 Validation Accuracy: 0.531600\n",
      "Epoch 22, CIFAR-10 Batch 5:  Loss:     1.3354 Validation Accuracy: 0.526400\n",
      "Epoch 23, CIFAR-10 Batch 1:  Loss:     1.3951 Validation Accuracy: 0.530400\n",
      "Epoch 23, CIFAR-10 Batch 2:  Loss:     1.1502 Validation Accuracy: 0.529200\n",
      "Epoch 23, CIFAR-10 Batch 3:  Loss:     1.1804 Validation Accuracy: 0.525200\n",
      "Epoch 23, CIFAR-10 Batch 4:  Loss:     1.2327 Validation Accuracy: 0.528800\n",
      "Epoch 23, CIFAR-10 Batch 5:  Loss:     1.3290 Validation Accuracy: 0.525200\n",
      "Epoch 24, CIFAR-10 Batch 1:  Loss:     1.3939 Validation Accuracy: 0.529800\n",
      "Epoch 24, CIFAR-10 Batch 2:  Loss:     1.1594 Validation Accuracy: 0.531800\n",
      "Epoch 24, CIFAR-10 Batch 3:  Loss:     1.1838 Validation Accuracy: 0.524400\n",
      "Epoch 24, CIFAR-10 Batch 4:  Loss:     1.2250 Validation Accuracy: 0.527800\n",
      "Epoch 24, CIFAR-10 Batch 5:  Loss:     1.3209 Validation Accuracy: 0.526800\n",
      "Epoch 25, CIFAR-10 Batch 1:  Loss:     1.3899 Validation Accuracy: 0.535800\n",
      "Epoch 25, CIFAR-10 Batch 2:  Loss:     1.1530 Validation Accuracy: 0.529000\n",
      "Epoch 25, CIFAR-10 Batch 3:  Loss:     1.1745 Validation Accuracy: 0.528800\n",
      "Epoch 25, CIFAR-10 Batch 4:  Loss:     1.2121 Validation Accuracy: 0.530400\n",
      "Epoch 25, CIFAR-10 Batch 5:  Loss:     1.2922 Validation Accuracy: 0.527000\n",
      "Epoch 26, CIFAR-10 Batch 1:  Loss:     1.4208 Validation Accuracy: 0.533200\n",
      "Epoch 26, CIFAR-10 Batch 2:  Loss:     1.1475 Validation Accuracy: 0.528600\n",
      "Epoch 26, CIFAR-10 Batch 3:  Loss:     1.1687 Validation Accuracy: 0.531000\n",
      "Epoch 26, CIFAR-10 Batch 4:  Loss:     1.2021 Validation Accuracy: 0.530200\n",
      "Epoch 26, CIFAR-10 Batch 5:  Loss:     1.2858 Validation Accuracy: 0.532600\n",
      "Epoch 27, CIFAR-10 Batch 1:  Loss:     1.4090 Validation Accuracy: 0.533400\n",
      "Epoch 27, CIFAR-10 Batch 2:  Loss:     1.1433 Validation Accuracy: 0.528200\n",
      "Epoch 27, CIFAR-10 Batch 3:  Loss:     1.1673 Validation Accuracy: 0.528600\n",
      "Epoch 27, CIFAR-10 Batch 4:  Loss:     1.2049 Validation Accuracy: 0.532200\n",
      "Epoch 27, CIFAR-10 Batch 5:  Loss:     1.2898 Validation Accuracy: 0.529000\n",
      "Epoch 28, CIFAR-10 Batch 1:  Loss:     1.4103 Validation Accuracy: 0.532400\n",
      "Epoch 28, CIFAR-10 Batch 2:  Loss:     1.1362 Validation Accuracy: 0.528600\n",
      "Epoch 28, CIFAR-10 Batch 3:  Loss:     1.1527 Validation Accuracy: 0.528000\n",
      "Epoch 28, CIFAR-10 Batch 4:  Loss:     1.2000 Validation Accuracy: 0.534200\n",
      "Epoch 28, CIFAR-10 Batch 5:  Loss:     1.2889 Validation Accuracy: 0.533000\n",
      "Epoch 29, CIFAR-10 Batch 1:  Loss:     1.4142 Validation Accuracy: 0.535200\n",
      "Epoch 29, CIFAR-10 Batch 2:  Loss:     1.1428 Validation Accuracy: 0.529800\n",
      "Epoch 29, CIFAR-10 Batch 3:  Loss:     1.1513 Validation Accuracy: 0.532400\n",
      "Epoch 29, CIFAR-10 Batch 4:  Loss:     1.1812 Validation Accuracy: 0.536400\n",
      "Epoch 29, CIFAR-10 Batch 5:  Loss:     1.2855 Validation Accuracy: 0.532400\n",
      "Epoch 30, CIFAR-10 Batch 1:  Loss:     1.4118 Validation Accuracy: 0.535200\n",
      "Epoch 30, CIFAR-10 Batch 2:  Loss:     1.1292 Validation Accuracy: 0.530800\n",
      "Epoch 30, CIFAR-10 Batch 3:  Loss:     1.1629 Validation Accuracy: 0.535200\n",
      "Epoch 30, CIFAR-10 Batch 4:  Loss:     1.1796 Validation Accuracy: 0.537600\n",
      "Epoch 30, CIFAR-10 Batch 5:  Loss:     1.2882 Validation Accuracy: 0.533800\n",
      "Epoch 31, CIFAR-10 Batch 1:  Loss:     1.4078 Validation Accuracy: 0.533400\n",
      "Epoch 31, CIFAR-10 Batch 2:  Loss:     1.1416 Validation Accuracy: 0.527000\n",
      "Epoch 31, CIFAR-10 Batch 3:  Loss:     1.1583 Validation Accuracy: 0.537800\n",
      "Epoch 31, CIFAR-10 Batch 4:  Loss:     1.1771 Validation Accuracy: 0.538600\n",
      "Epoch 31, CIFAR-10 Batch 5:  Loss:     1.2731 Validation Accuracy: 0.534000\n",
      "Epoch 32, CIFAR-10 Batch 1:  Loss:     1.4240 Validation Accuracy: 0.538600\n",
      "Epoch 32, CIFAR-10 Batch 2:  Loss:     1.1367 Validation Accuracy: 0.532800\n",
      "Epoch 32, CIFAR-10 Batch 3:  Loss:     1.1549 Validation Accuracy: 0.537400\n",
      "Epoch 32, CIFAR-10 Batch 4:  Loss:     1.1777 Validation Accuracy: 0.537600\n",
      "Epoch 32, CIFAR-10 Batch 5:  Loss:     1.2677 Validation Accuracy: 0.538400\n",
      "Epoch 33, CIFAR-10 Batch 1:  Loss:     1.4096 Validation Accuracy: 0.540400\n",
      "Epoch 33, CIFAR-10 Batch 2:  Loss:     1.1433 Validation Accuracy: 0.534800\n",
      "Epoch 33, CIFAR-10 Batch 3:  Loss:     1.1461 Validation Accuracy: 0.534800\n",
      "Epoch 33, CIFAR-10 Batch 4:  Loss:     1.1689 Validation Accuracy: 0.541000\n",
      "Epoch 33, CIFAR-10 Batch 5:  Loss:     1.2803 Validation Accuracy: 0.539600\n",
      "Epoch 34, CIFAR-10 Batch 1:  Loss:     1.3848 Validation Accuracy: 0.541000\n",
      "Epoch 34, CIFAR-10 Batch 2:  Loss:     1.1365 Validation Accuracy: 0.537600\n",
      "Epoch 34, CIFAR-10 Batch 3:  Loss:     1.1568 Validation Accuracy: 0.535000\n",
      "Epoch 34, CIFAR-10 Batch 4:  Loss:     1.1512 Validation Accuracy: 0.539800\n",
      "Epoch 34, CIFAR-10 Batch 5:  Loss:     1.2764 Validation Accuracy: 0.535200\n",
      "Epoch 35, CIFAR-10 Batch 1:  Loss:     1.4155 Validation Accuracy: 0.534800\n",
      "Epoch 35, CIFAR-10 Batch 2:  Loss:     1.1271 Validation Accuracy: 0.534800\n",
      "Epoch 35, CIFAR-10 Batch 3:  Loss:     1.1521 Validation Accuracy: 0.537600\n",
      "Epoch 35, CIFAR-10 Batch 4:  Loss:     1.1491 Validation Accuracy: 0.537200\n",
      "Epoch 35, CIFAR-10 Batch 5:  Loss:     1.2726 Validation Accuracy: 0.541400\n"
     ]
    }
   ],
   "source": [
    "\"\"\"\n",
    "DON'T MODIFY ANYTHING IN THIS CELL\n",
    "\"\"\"\n",
    "save_model_path = './image_classification'\n",
    "\n",
    "print('Training...')\n",
    "with tf.Session() as sess:\n",
    "    # Initializing the variables\n",
    "    sess.run(tf.global_variables_initializer())\n",
    "    \n",
    "    # Training cycle\n",
    "    for epoch in range(epochs):\n",
    "        # Loop over all batches\n",
    "        n_batches = 5\n",
    "        for batch_i in range(1, n_batches + 1):\n",
    "            for batch_features, batch_labels in helper.load_preprocess_training_batch(batch_i, batch_size):\n",
    "                train_neural_network(sess, optimizer, keep_probability, batch_features, batch_labels)\n",
    "            print('Epoch {:>2}, CIFAR-10 Batch {}:  '.format(epoch + 1, batch_i), end='')\n",
    "            print_stats(sess, batch_features, batch_labels, cost, accuracy)\n",
    "            \n",
    "    # Save Model\n",
    "    saver = tf.train.Saver()\n",
    "    save_path = saver.save(sess, save_model_path)"
   ]
  },
  {
   "cell_type": "markdown",
   "metadata": {},
   "source": [
    "# Checkpoint\n",
    "The model has been saved to disk.\n",
    "## Test Model\n",
    "Test your model against the test dataset.  This will be your final accuracy. You should have an accuracy greater than 50%. If you don't, keep tweaking the model architecture and parameters."
   ]
  },
  {
   "cell_type": "code",
   "execution_count": 30,
   "metadata": {},
   "outputs": [
    {
     "name": "stdout",
     "output_type": "stream",
     "text": [
      "INFO:tensorflow:Restoring parameters from ./image_classification\n",
      "Testing Accuracy: 0.5368868670886076\n",
      "\n"
     ]
    },
    {
     "data": {
      "image/png": "[encoded data removed]",
      "text/plain": [
       "<matplotlib.figure.Figure at 0x7fe6ab034fd0>"
      ]
     },
     "metadata": {
      "image/png": {
       "height": 319,
       "width": 355
      }
     },
     "output_type": "display_data"
    }
   ],
   "source": [
    "\"\"\"\n",
    "DON'T MODIFY ANYTHING IN THIS CELL\n",
    "\"\"\"\n",
    "%matplotlib inline\n",
    "%config InlineBackend.figure_format = 'retina'\n",
    "\n",
    "import tensorflow as tf\n",
    "import pickle\n",
    "import helper\n",
    "import random\n",
    "\n",
    "# Set batch size if not already set\n",
    "try:\n",
    "    if batch_size:\n",
    "        pass\n",
    "except NameError:\n",
    "    batch_size = 64\n",
    "\n",
    "save_model_path = './image_classification'\n",
    "n_samples = 4\n",
    "top_n_predictions = 3\n",
    "\n",
    "def test_model():\n",
    "    \"\"\"\n",
    "    Test the saved model against the test dataset\n",
    "    \"\"\"\n",
    "\n",
    "    test_features, test_labels = pickle.load(open('preprocess_training.p', mode='rb'))\n",
    "    loaded_graph = tf.Graph()\n",
    "\n",
    "    with tf.Session(graph=loaded_graph) as sess:\n",
    "        # Load model\n",
    "        loader = tf.train.import_meta_graph(save_model_path + '.meta')\n",
    "        loader.restore(sess, save_model_path)\n",
    "\n",
    "        # Get Tensors from loaded model\n",
    "        loaded_x = loaded_graph.get_tensor_by_name('x:0')\n",
    "        loaded_y = loaded_graph.get_tensor_by_name('y:0')\n",
    "        loaded_keep_prob = loaded_graph.get_tensor_by_name('keep_prob:0')\n",
    "        loaded_logits = loaded_graph.get_tensor_by_name('logits:0')\n",
    "        loaded_acc = loaded_graph.get_tensor_by_name('accuracy:0')\n",
    "        \n",
    "        # Get accuracy in batches for memory limitations\n",
    "        test_batch_acc_total = 0\n",
    "        test_batch_count = 0\n",
    "        \n",
    "        for train_feature_batch, train_label_batch in helper.batch_features_labels(test_features, test_labels, batch_size):\n",
    "            test_batch_acc_total += sess.run(\n",
    "                loaded_acc,\n",
    "                feed_dict={loaded_x: train_feature_batch, loaded_y: train_label_batch, loaded_keep_prob: 1.0})\n",
    "            test_batch_count += 1\n",
    "\n",
    "        print('Testing Accuracy: {}\\n'.format(test_batch_acc_total/test_batch_count))\n",
    "\n",
    "        # Print Random Samples\n",
    "        random_test_features, random_test_labels = tuple(zip(*random.sample(list(zip(test_features, test_labels)), n_samples)))\n",
    "        random_test_predictions = sess.run(\n",
    "            tf.nn.top_k(tf.nn.softmax(loaded_logits), top_n_predictions),\n",
    "            feed_dict={loaded_x: random_test_features, loaded_y: random_test_labels, loaded_keep_prob: 1.0})\n",
    "        helper.display_image_predictions(random_test_features, random_test_labels, random_test_predictions)\n",
    "\n",
    "\n",
    "test_model()"
   ]
  },
  {
   "cell_type": "markdown",
   "metadata": {},
   "source": [
    "## Why 50-70% Accuracy?\n",
    "You might be wondering why you can't get an accuracy any higher. First things first, 50% isn't bad for a simple CNN.  Pure guessing would get you 10% accuracy. However, you might notice people are getting scores [well above 70%](http://rodrigob.github.io/are_we_there_yet/build/classification_datasets_results.html#43494641522d3130).  That's because we haven't taught you all there is to know about neural networks. We still need to cover a few more techniques.\n",
    "## Submitting This Project\n",
    "When submitting this project, make sure to run all the cells before saving the notebook.  Save the notebook file as \"dlnd_image_classification.ipynb\" and save it as a HTML file under \"File\" -> \"Download as\".  Include the \"helper.py\" and \"problem_unittests.py\" files in your submission."
   ]
  },
  {
   "cell_type": "code",
   "execution_count": null,
   "metadata": {
    "collapsed": true
   },
   "outputs": [],
   "source": []
  }
 ],
 "metadata": {
  "kernelspec": {
   "display_name": "Python 3",
   "language": "python",
   "name": "python3"
  },
  "language_info": {
   "codemirror_mode": {
    "name": "ipython",
    "version": 3
   },
   "file_extension": ".py",
   "mimetype": "text/x-python",
   "name": "python",
   "nbconvert_exporter": "python",
   "pygments_lexer": "ipython3",
   "version": "3.5.3"
  }
 },
 "nbformat": 4,
 "nbformat_minor": 1
}
